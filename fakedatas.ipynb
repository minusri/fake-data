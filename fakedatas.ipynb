{
 "cells": [
  {
   "cell_type": "code",
   "execution_count": 1,
   "metadata": {},
   "outputs": [],
   "source": [
    "from faker import Faker"
   ]
  },
  {
   "cell_type": "code",
   "execution_count": 2,
   "metadata": {},
   "outputs": [],
   "source": [
    "fake_data = Faker()"
   ]
  },
  {
   "cell_type": "code",
   "execution_count": 3,
   "metadata": {},
   "outputs": [],
   "source": [
    "def create_names(n):\n",
    "    name = []\n",
    "    for _ in range(0, n):\n",
    "        name.append(fake_data.name())\n",
    "    return name"
   ]
  },
  {
   "cell_type": "code",
   "execution_count": 4,
   "metadata": {},
   "outputs": [],
   "source": [
    "name = create_names(400000)"
   ]
  },
  {
   "cell_type": "code",
   "execution_count": 5,
   "metadata": {},
   "outputs": [
    {
     "data": {
      "text/plain": [
       "['Michael Mendoza',\n",
       " 'Peter Chavez',\n",
       " 'Anthony Mcmahon',\n",
       " 'Sheryl Gonzalez',\n",
       " 'Monique Lawson',\n",
       " 'Steven Wilson',\n",
       " 'Rebecca Williams',\n",
       " 'Henry Webster',\n",
       " 'Ryan Thomas',\n",
       " 'Thomas Smith']"
      ]
     },
     "execution_count": 5,
     "metadata": {},
     "output_type": "execute_result"
    }
   ],
   "source": [
    "name[:10]"
   ]
  },
  {
   "cell_type": "code",
   "execution_count": 6,
   "metadata": {},
   "outputs": [],
   "source": [
    "import numpy as np"
   ]
  },
  {
   "cell_type": "code",
   "execution_count": 7,
   "metadata": {},
   "outputs": [],
   "source": [
    "age = np.random.randint(18, 89, size = 400000, dtype = 'int')"
   ]
  },
  {
   "cell_type": "code",
   "execution_count": 8,
   "metadata": {},
   "outputs": [],
   "source": [
    "def create_drugname(n):\n",
    "    drugname = []\n",
    "    for _ in range(0, n):\n",
    "        drugname.append(fake_data.random_element(elements = ('enalapril', 'ortho-tri-cyclen', 'ponstel', 'prilosec', 'lyrica',\n",
    "       'propecia', 'vyvanse', 'elavil', 'xanax', 'claritin', 'flagyl',\n",
    "       'dextroamphetamine', 'sarafem', 'latisse', 'aldara', 'effexor-xr',\n",
    "       'neurontin', 'omnicef', 'klonopin', 'dovonex', 'protopic',\n",
    "       'effexor', 'sotret', 'retin-a-micro', 'lamotrigine', 'rebif',\n",
    "       'symbicort', 'lamictal', 'doxycycline', 'actonel', 'provigil',\n",
    "       'ambien', 'wellbutrin', 'nortriptyline', 'imitrex', 'ativan',\n",
    "       'prozac', 'topamax', 'levitra', 'oxycodone', 'oxycontin',\n",
    "       'vicodin', 'accutane', 'zocor', 'minocycline', 'estrace',\n",
    "       'meridia', 'prevacid', 'cosopt', 'renova', 'depakote', 'tekturna',\n",
    "       'zegerid', 'sular', 'crestor', 'metformin', 'celexa', 'lexapro',\n",
    "       'naproxen', 'levoxyl', 'synthroid', 'spironolactone', 'oracea',\n",
    "       'paxil', 'zantac', 'fosamax', 'tirosint', 'cymbalta', 'ambien-cr',\n",
    "       'angeliq', 'prempro', 'wellbutrin-xl', 'biaxin', 'lipitor',\n",
    "       'tazorac', 'alendronate', 'claripel-cream', 'valtrex', 'femring',\n",
    "       'soma', 'tylenol', 'ultram', 'chantix', 'ziana', 'vivelle-dot',\n",
    "       'ultram-er', 'lotrel', 'viagra', 'seasonale', 'wellbutrin-sr',\n",
    "       'allegra', 'nasonex', 'fortaz', 'singulair', 'xyrem', 'zoloft',\n",
    "       'differin', 'zyban', 'anafranil', 'nuvaring', 'motrin', 'serzone',\n",
    "       'naprosyn', 'flomax', 'percocet', 'protonix', 'mirapex',\n",
    "       'dexamethasone', 'toradol', 'caduet', 'diazepam', 'celebrex',\n",
    "       'actiq', 'mobic', 'tegretol', 'zestoretic', 'malarone', 'zofran',\n",
    "       'lunesta', 'spiriva', 'enbrel', 'atarax', 'pilocarpine', 'retin-a',\n",
    "       'phenergan', 'glucophage', 'evista', 'lopressor', 'flexeril',\n",
    "       'seroquel-xr', 'abilify', 'augmentin', 'finacea', 'alprazolam',\n",
    "       'saizen', 'clonazepam', 'vivelle', 'keflex', 'tequin', 'zomig',\n",
    "       'vagifem', 'citalopram', 'benzaclin', 'aloprim', 'metrogel',\n",
    "       'zyprexa', 'methotrexate', 'lamisil', 'ultracet', 'lorazepam',\n",
    "       'relafen', 'valium', 'yasmin', 'tri-luma', 'provera', 'adipex-p',\n",
    "       'seroquel', 'xenical', 'baclofen', 'clindamycin-topical',\n",
    "       'depo-provera', 'metronidazole', 'dispermox', 'solodyn',\n",
    "       'suboxone', 'zmax', 'prinivil', 'paxil-cr', 'darvocet-n',\n",
    "       'ranitidine', 'amoxil', 'septra', 'tamiflu', 'risperdal',\n",
    "       'soltamox', 'levaquin', 'xyzal', 'cleocin', 'voltaren',\n",
    "       'tetracycline', 'zovirax', 'cipro', 'relpax', 'follistim',\n",
    "       'lortab', 'climara', 'requip', 'restasis', 'seasonique', 'remeron',\n",
    "       'macrobid', 'buprenorphine', 'fiorinal', 'trazodone', 'xalatan',\n",
    "       'cytomel', 'oxazepam', 'atenolol', 'premarin', 'norpramin',\n",
    "       'topicort', 'lumigan', 'fluconazole', 'zithromax', 'grifulvin-v',\n",
    "       'proscar', 'triphasil', 'maxalt', 'antivert', 'flonase', 'hyzaar',\n",
    "       'fexofenadine', 'ritalin-la', 'tambocor', 'clomid', 'prednisone',\n",
    "       'ventolin-hfa', 'armour-thyroid', 'sumatriptan', 'pentasa',\n",
    "       'clarithromycin', 'zyrtec', 'elidel', 'danazol', 'ditropan',\n",
    "       'tramadol', 'permapen', 'trimethobenzamide', 'nystatin',\n",
    "       'remicade', 'phendimetrazine', 'azopt', 'desyrel', 'niaspan',\n",
    "       'azelex', 'selegiline', 'norvasc', 'avita', 'sulindac', 'adderall',\n",
    "       'aricept', 'mirtazapine', 'dysport', 'cialis', 'tarka', 'lo-ovral',\n",
    "       'hydrochlorothiazide', 'avelox', 'concerta', 'ortho-evra',\n",
    "       'rhinocort', 'oxybutynin', 'fioricet', 'strattera', 'botox',\n",
    "       'albuterol', 'trimethoprim', 'keppra', 'baraclude', 'amitiza',\n",
    "       'eulexin', 'klaron', 'accupril', 'plavix', 'galzin', 'ritalin',\n",
    "       'lithium-carbonate', 'metoclopramide', 'avapro', 'ketorolac',\n",
    "       'innofem', 'axert', 'avage', 'betamethasone', 'aczone',\n",
    "       'compazine', 'nexium', 'advair-diskus', 'advair-hfa', 'reglan',\n",
    "       'micardis', 'clobetasol', 'hydrocortisone', 'clindamycin',\n",
    "       'geodon', 'catapres', 'premarin-vaginal', 'niacor',\n",
    "       'fosamax-plus-d', 'noroxin', 'hytrin', 'asacol', 'imodium',\n",
    "       'dilaudid', 'tobramycin', 'ecotrin', 'avodart', 'coumadin',\n",
    "       'ortho-tri-cyclen-lo', 'diclofenac', 'elocon', 'aromasin',\n",
    "       'acyclovir', 'estrasorb', 'zyrtec-d', 'tussionex', 'qvar',\n",
    "       'humira', 'proquin-xr', 'nolvadex', 'levora', 'plendil', 'halcion',\n",
    "       'sonata', 'aldactone', 'miralax', 'clarinex', 'minoxidil',\n",
    "       'evoclin', 'sulfasalazine', 'byetta', 'panixine-disperdose',\n",
    "       'vytorin', 'pristiq', 'doryx', 'buspar', 'mevacor', 'dextrostat',\n",
    "       'triaz', 'estratest', 'vaniqa', 'erythromycin', 'frova',\n",
    "       'tenormin', 'allegra-d', 'naltrexone', 'symbyax', 'ketoconazole',\n",
    "       'arava', 'actos', 'nuvigil', 'ampicillin', 'pravachol',\n",
    "       'isoniazid', 'mirena', 'xanax-xr', 'omnitrope', 'prometrium',\n",
    "       'cataflam', 'nitrofurantoin', 'copaxone', 'restoril', 'nasacort',\n",
    "       'aygestin', 'diovan', 'duac', 'efudex', 'prednisolone', 'cefzil',\n",
    "       'flovent', 'vasotec', 'warfarin', 'morphine', 'rifadin', 'lybrel',\n",
    "       'cozaar', 'oxycodone-and-acetaminophen', 'asmanex', 'inspra',\n",
    "       'carac', 'imuran', 'diflucan', 'vigamox', 'diltiazem', 'prograf',\n",
    "       'periostat', 'exelon', 'benicar', 'divigel', 'dostinex', 'aciphex',\n",
    "       'delestrogen', 'inderal', 'clobex', 'fluvoxamine', 'skelaxin',\n",
    "       'dexedrine', 'adderall-xr', 'polymyxin-b', 'benicar-hct',\n",
    "       'proloprim', 'accolate', 'cardura', 'progesterone', 'coreg',\n",
    "       'dapsone', 'cyproheptadine', 'methadone', 'lidex', 'penlac',\n",
    "       'hydrocodone-and-acetaminophen', 'propranolol', 'erythra-derm',\n",
    "       'bisoprolol', 'hyoscyamine', 'emsam', 'femhrt', 'benadryl',\n",
    "       'proair-hfa', 'kenalog', 'ribavirin', 'toprol-xl',\n",
    "       'locoid-lipocream', 'metoprolol', 'lotronex', 'fosinopril',\n",
    "       'elmiron', 'lasix', 'zovirax-topical', 'trental', 'triamcinolone',\n",
    "       'bactrim-ds', 'mercaptopurine', 'omacor', 'arimidex',\n",
    "       'ortho-novum', 'depakene', 'ceclor', 'azasan', 'quibron-t',\n",
    "       'corgard', 'femara', 'meperidine', 'betaseron', 'climara-pro',\n",
    "       'gonal-f-rff', 'atacand', 'arthrotec', 'levetiracetam', 'dilantin',\n",
    "       'periogard', 'androgel', 'levothroid', 'zyvox', 'prochlorperazine',\n",
    "       'lac-hydrin', 'vioxx', 'penicillin-v', 'lidocaine', 'haldol',\n",
    "       'temovate', 'detrol-la', 'metrolotion', 'aralen', 'boniva',\n",
    "       'neoprofen', 'bystolic', 'sanctura-xr', 'lupron', 'amphetamine',\n",
    "       'lodine', 'parlodel', 'minocin', 'bactroban', 'detrol', 'nizoral',\n",
    "       'nardil', 'atripla', 'azor', 'tapazole', 'estrostep-fe', 'pamelor',\n",
    "       'nizoral-shampoo', 'fentanyl', 'lantus',\n",
    "       'metformin-extended-release', 'pepcid', 'ziac', 'vicoprofen',\n",
    "       'deltasone', 'alesse', 'amerge', 'estring', 'duragesic',\n",
    "       'tofranil-pm', 'vesicare', 'nasarel', 'doxepin',\n",
    "       'medroxyprogesterone', 'trilipix', 'cardura-xl', 'baciim',\n",
    "       'enablex', 'dicyclomine', 'methimazole', 'vistaril', 'adcirca',\n",
    "       'desonide', 'nasacort-aq', 'glucophage-xr', 'risperdal-consta',\n",
    "       'trileptal')))\n",
    "    return drugname"
   ]
  },
  {
   "cell_type": "code",
   "execution_count": 9,
   "metadata": {},
   "outputs": [],
   "source": [
    "drugname = create_drugname(400000)"
   ]
  },
  {
   "cell_type": "code",
   "execution_count": 10,
   "metadata": {},
   "outputs": [],
   "source": [
    "def create_race(n):\n",
    "    race = []\n",
    "    for _ in range(0, n):\n",
    "        race.append(fake_data.random_element(elements = (\"White\", \"Hispanic\", \"Black\", \"Asian\")))\n",
    "    return race\n"
   ]
  },
  {
   "cell_type": "code",
   "execution_count": 11,
   "metadata": {},
   "outputs": [],
   "source": [
    "races = create_race(400000)"
   ]
  },
  {
   "cell_type": "code",
   "execution_count": 12,
   "metadata": {},
   "outputs": [],
   "source": [
    "def create_gender(n):\n",
    "    gender = []\n",
    "    for _ in range(0, n):\n",
    "        gender.append(fake_data.random_element(elements = (\"Male\", \"Female\")))\n",
    "    return gender"
   ]
  },
  {
   "cell_type": "code",
   "execution_count": 13,
   "metadata": {},
   "outputs": [],
   "source": [
    "gender=create_gender(400000)"
   ]
  },
  {
   "cell_type": "code",
   "execution_count": 14,
   "metadata": {},
   "outputs": [],
   "source": [
    "def create_effectiveness(n):\n",
    "    effectiveness = []\n",
    "    for _ in range(0, n):\n",
    "        effectiveness.append(fake_data.random_element(elements = (\"Considerably Effective\", \"Marginally Effective\", \"Highly Effective\",\"Ineffective\",\"Moderately Effective\")))\n",
    "    return effectiveness"
   ]
  },
  {
   "cell_type": "code",
   "execution_count": 15,
   "metadata": {},
   "outputs": [],
   "source": [
    "effectiveness=create_effectiveness(400000)"
   ]
  },
  {
   "cell_type": "code",
   "execution_count": 16,
   "metadata": {},
   "outputs": [],
   "source": [
    "def create_side_effects(n):\n",
    "    side_effects = []\n",
    "    for _ in range(0, n):\n",
    "        side_effects.append(fake_data.random_element(elements = (\"No Side Effects\", \"Mild Side Effects\", \"Moderate Side Effects\", \"Mild Side Effects\",\"Severe Side Effects\",\"Extremely Severe Side Effects\")))\n",
    "    return side_effects"
   ]
  },
  {
   "cell_type": "code",
   "execution_count": 17,
   "metadata": {},
   "outputs": [],
   "source": [
    "side_effects=create_side_effects(400000)"
   ]
  },
  {
   "cell_type": "code",
   "execution_count": 18,
   "metadata": {},
   "outputs": [],
   "source": [
    "import pandas as pd"
   ]
  },
  {
   "cell_type": "code",
   "execution_count": 19,
   "metadata": {},
   "outputs": [],
   "source": [
    "data = pd.DataFrame(list(zip(name,drugname,age,races,gender,effectiveness,side_effects)),\n",
    "                    columns=['Name','Drug Name','Age','Races', 'Gender','Effectiveness','side effects'])"
   ]
  },
  {
   "cell_type": "code",
   "execution_count": 20,
   "metadata": {},
   "outputs": [
    {
     "data": {
      "text/html": [
       "<div>\n",
       "<style scoped>\n",
       "    .dataframe tbody tr th:only-of-type {\n",
       "        vertical-align: middle;\n",
       "    }\n",
       "\n",
       "    .dataframe tbody tr th {\n",
       "        vertical-align: top;\n",
       "    }\n",
       "\n",
       "    .dataframe thead th {\n",
       "        text-align: right;\n",
       "    }\n",
       "</style>\n",
       "<table border=\"1\" class=\"dataframe\">\n",
       "  <thead>\n",
       "    <tr style=\"text-align: right;\">\n",
       "      <th></th>\n",
       "      <th>Name</th>\n",
       "      <th>Drug Name</th>\n",
       "      <th>Age</th>\n",
       "      <th>Races</th>\n",
       "      <th>Gender</th>\n",
       "      <th>Effectiveness</th>\n",
       "      <th>side effects</th>\n",
       "    </tr>\n",
       "  </thead>\n",
       "  <tbody>\n",
       "    <tr>\n",
       "      <th>0</th>\n",
       "      <td>Michael Mendoza</td>\n",
       "      <td>remicade</td>\n",
       "      <td>31</td>\n",
       "      <td>Hispanic</td>\n",
       "      <td>Male</td>\n",
       "      <td>Highly Effective</td>\n",
       "      <td>No Side Effects</td>\n",
       "    </tr>\n",
       "    <tr>\n",
       "      <th>1</th>\n",
       "      <td>Peter Chavez</td>\n",
       "      <td>remicade</td>\n",
       "      <td>88</td>\n",
       "      <td>White</td>\n",
       "      <td>Male</td>\n",
       "      <td>Moderately Effective</td>\n",
       "      <td>Mild Side Effects</td>\n",
       "    </tr>\n",
       "    <tr>\n",
       "      <th>2</th>\n",
       "      <td>Anthony Mcmahon</td>\n",
       "      <td>nasarel</td>\n",
       "      <td>68</td>\n",
       "      <td>White</td>\n",
       "      <td>Male</td>\n",
       "      <td>Moderately Effective</td>\n",
       "      <td>Moderate Side Effects</td>\n",
       "    </tr>\n",
       "    <tr>\n",
       "      <th>3</th>\n",
       "      <td>Sheryl Gonzalez</td>\n",
       "      <td>tobramycin</td>\n",
       "      <td>71</td>\n",
       "      <td>Hispanic</td>\n",
       "      <td>Female</td>\n",
       "      <td>Highly Effective</td>\n",
       "      <td>Mild Side Effects</td>\n",
       "    </tr>\n",
       "    <tr>\n",
       "      <th>4</th>\n",
       "      <td>Monique Lawson</td>\n",
       "      <td>diazepam</td>\n",
       "      <td>55</td>\n",
       "      <td>White</td>\n",
       "      <td>Female</td>\n",
       "      <td>Considerably Effective</td>\n",
       "      <td>Mild Side Effects</td>\n",
       "    </tr>\n",
       "  </tbody>\n",
       "</table>\n",
       "</div>"
      ],
      "text/plain": [
       "              Name   Drug Name  Age     Races  Gender           Effectiveness  \\\n",
       "0  Michael Mendoza    remicade   31  Hispanic    Male        Highly Effective   \n",
       "1     Peter Chavez    remicade   88     White    Male    Moderately Effective   \n",
       "2  Anthony Mcmahon     nasarel   68     White    Male    Moderately Effective   \n",
       "3  Sheryl Gonzalez  tobramycin   71  Hispanic  Female        Highly Effective   \n",
       "4   Monique Lawson    diazepam   55     White  Female  Considerably Effective   \n",
       "\n",
       "            side effects  \n",
       "0        No Side Effects  \n",
       "1      Mild Side Effects  \n",
       "2  Moderate Side Effects  \n",
       "3      Mild Side Effects  \n",
       "4      Mild Side Effects  "
      ]
     },
     "execution_count": 20,
     "metadata": {},
     "output_type": "execute_result"
    }
   ],
   "source": [
    "data.head()"
   ]
  },
  {
   "cell_type": "code",
   "execution_count": 21,
   "metadata": {},
   "outputs": [
    {
     "data": {
      "text/plain": [
       "(400000, 7)"
      ]
     },
     "execution_count": 21,
     "metadata": {},
     "output_type": "execute_result"
    }
   ],
   "source": [
    "data.shape"
   ]
  },
  {
   "cell_type": "code",
   "execution_count": 22,
   "metadata": {},
   "outputs": [],
   "source": [
    "data.to_csv('dataset.csv',index=False)"
   ]
  },
  {
   "cell_type": "code",
   "execution_count": 23,
   "metadata": {},
   "outputs": [
    {
     "data": {
      "text/plain": [
       "Name             192773\n",
       "Drug Name           502\n",
       "Age                  71\n",
       "Races                 4\n",
       "Gender                2\n",
       "Effectiveness         5\n",
       "side effects          5\n",
       "dtype: int64"
      ]
     },
     "execution_count": 23,
     "metadata": {},
     "output_type": "execute_result"
    }
   ],
   "source": [
    "data.nunique()"
   ]
  },
  {
   "cell_type": "code",
   "execution_count": 24,
   "metadata": {},
   "outputs": [],
   "source": [
    "from sklearn.preprocessing import LabelEncoder\n",
    "le=LabelEncoder()"
   ]
  },
  {
   "cell_type": "code",
   "execution_count": 25,
   "metadata": {},
   "outputs": [
    {
     "data": {
      "text/plain": [
       "Index(['Name', 'Drug Name', 'Age', 'Races', 'Gender', 'Effectiveness',\n",
       "       'side effects'],\n",
       "      dtype='object')"
      ]
     },
     "execution_count": 25,
     "metadata": {},
     "output_type": "execute_result"
    }
   ],
   "source": [
    "data.columns"
   ]
  },
  {
   "cell_type": "code",
   "execution_count": 26,
   "metadata": {},
   "outputs": [],
   "source": [
    "cols=['Drug Name','Effectiveness','Races','side effects','Gender']\n",
    "\n",
    "for x in cols:\n",
    "    data[x]=le.fit_transform(data[x])"
   ]
  },
  {
   "cell_type": "code",
   "execution_count": 27,
   "metadata": {},
   "outputs": [
    {
     "data": {
      "text/html": [
       "<div>\n",
       "<style scoped>\n",
       "    .dataframe tbody tr th:only-of-type {\n",
       "        vertical-align: middle;\n",
       "    }\n",
       "\n",
       "    .dataframe tbody tr th {\n",
       "        vertical-align: top;\n",
       "    }\n",
       "\n",
       "    .dataframe thead th {\n",
       "        text-align: right;\n",
       "    }\n",
       "</style>\n",
       "<table border=\"1\" class=\"dataframe\">\n",
       "  <thead>\n",
       "    <tr style=\"text-align: right;\">\n",
       "      <th></th>\n",
       "      <th>Name</th>\n",
       "      <th>Drug Name</th>\n",
       "      <th>Age</th>\n",
       "      <th>Races</th>\n",
       "      <th>Gender</th>\n",
       "      <th>Effectiveness</th>\n",
       "      <th>side effects</th>\n",
       "    </tr>\n",
       "  </thead>\n",
       "  <tbody>\n",
       "    <tr>\n",
       "      <th>0</th>\n",
       "      <td>Michael Mendoza</td>\n",
       "      <td>379</td>\n",
       "      <td>31</td>\n",
       "      <td>2</td>\n",
       "      <td>1</td>\n",
       "      <td>1</td>\n",
       "      <td>3</td>\n",
       "    </tr>\n",
       "    <tr>\n",
       "      <th>1</th>\n",
       "      <td>Peter Chavez</td>\n",
       "      <td>379</td>\n",
       "      <td>88</td>\n",
       "      <td>3</td>\n",
       "      <td>1</td>\n",
       "      <td>4</td>\n",
       "      <td>1</td>\n",
       "    </tr>\n",
       "    <tr>\n",
       "      <th>2</th>\n",
       "      <td>Anthony Mcmahon</td>\n",
       "      <td>295</td>\n",
       "      <td>68</td>\n",
       "      <td>3</td>\n",
       "      <td>1</td>\n",
       "      <td>4</td>\n",
       "      <td>2</td>\n",
       "    </tr>\n",
       "    <tr>\n",
       "      <th>3</th>\n",
       "      <td>Sheryl Gonzalez</td>\n",
       "      <td>433</td>\n",
       "      <td>71</td>\n",
       "      <td>2</td>\n",
       "      <td>0</td>\n",
       "      <td>1</td>\n",
       "      <td>1</td>\n",
       "    </tr>\n",
       "    <tr>\n",
       "      <th>4</th>\n",
       "      <td>Monique Lawson</td>\n",
       "      <td>136</td>\n",
       "      <td>55</td>\n",
       "      <td>3</td>\n",
       "      <td>0</td>\n",
       "      <td>0</td>\n",
       "      <td>1</td>\n",
       "    </tr>\n",
       "    <tr>\n",
       "      <th>...</th>\n",
       "      <td>...</td>\n",
       "      <td>...</td>\n",
       "      <td>...</td>\n",
       "      <td>...</td>\n",
       "      <td>...</td>\n",
       "      <td>...</td>\n",
       "      <td>...</td>\n",
       "    </tr>\n",
       "    <tr>\n",
       "      <th>399995</th>\n",
       "      <td>Joshua Bryant</td>\n",
       "      <td>152</td>\n",
       "      <td>20</td>\n",
       "      <td>0</td>\n",
       "      <td>0</td>\n",
       "      <td>1</td>\n",
       "      <td>4</td>\n",
       "    </tr>\n",
       "    <tr>\n",
       "      <th>399996</th>\n",
       "      <td>Hannah Harris</td>\n",
       "      <td>358</td>\n",
       "      <td>86</td>\n",
       "      <td>1</td>\n",
       "      <td>1</td>\n",
       "      <td>4</td>\n",
       "      <td>2</td>\n",
       "    </tr>\n",
       "    <tr>\n",
       "      <th>399997</th>\n",
       "      <td>Johnathan Porter</td>\n",
       "      <td>247</td>\n",
       "      <td>52</td>\n",
       "      <td>1</td>\n",
       "      <td>0</td>\n",
       "      <td>4</td>\n",
       "      <td>0</td>\n",
       "    </tr>\n",
       "    <tr>\n",
       "      <th>399998</th>\n",
       "      <td>Robert Payne</td>\n",
       "      <td>70</td>\n",
       "      <td>46</td>\n",
       "      <td>3</td>\n",
       "      <td>0</td>\n",
       "      <td>3</td>\n",
       "      <td>1</td>\n",
       "    </tr>\n",
       "    <tr>\n",
       "      <th>399999</th>\n",
       "      <td>Eric Larson</td>\n",
       "      <td>431</td>\n",
       "      <td>29</td>\n",
       "      <td>1</td>\n",
       "      <td>0</td>\n",
       "      <td>4</td>\n",
       "      <td>3</td>\n",
       "    </tr>\n",
       "  </tbody>\n",
       "</table>\n",
       "<p>400000 rows × 7 columns</p>\n",
       "</div>"
      ],
      "text/plain": [
       "                    Name  Drug Name  Age  Races  Gender  Effectiveness  \\\n",
       "0        Michael Mendoza        379   31      2       1              1   \n",
       "1           Peter Chavez        379   88      3       1              4   \n",
       "2        Anthony Mcmahon        295   68      3       1              4   \n",
       "3        Sheryl Gonzalez        433   71      2       0              1   \n",
       "4         Monique Lawson        136   55      3       0              0   \n",
       "...                  ...        ...  ...    ...     ...            ...   \n",
       "399995     Joshua Bryant        152   20      0       0              1   \n",
       "399996     Hannah Harris        358   86      1       1              4   \n",
       "399997  Johnathan Porter        247   52      1       0              4   \n",
       "399998      Robert Payne         70   46      3       0              3   \n",
       "399999       Eric Larson        431   29      1       0              4   \n",
       "\n",
       "        side effects  \n",
       "0                  3  \n",
       "1                  1  \n",
       "2                  2  \n",
       "3                  1  \n",
       "4                  1  \n",
       "...              ...  \n",
       "399995             4  \n",
       "399996             2  \n",
       "399997             0  \n",
       "399998             1  \n",
       "399999             3  \n",
       "\n",
       "[400000 rows x 7 columns]"
      ]
     },
     "execution_count": 27,
     "metadata": {},
     "output_type": "execute_result"
    }
   ],
   "source": [
    "data"
   ]
  },
  {
   "cell_type": "code",
   "execution_count": 28,
   "metadata": {},
   "outputs": [],
   "source": [
    "x=data.drop(['Name','side effects'],axis=1)"
   ]
  },
  {
   "cell_type": "code",
   "execution_count": 29,
   "metadata": {},
   "outputs": [],
   "source": [
    "y=data['side effects']"
   ]
  },
  {
   "cell_type": "code",
   "execution_count": 30,
   "metadata": {},
   "outputs": [],
   "source": [
    "from sklearn.model_selection import train_test_split\n",
    "x_train,x_test,y_train,y_test=train_test_split(x,y,random_state=42,test_size=0.2)"
   ]
  },
  {
   "cell_type": "code",
   "execution_count": 31,
   "metadata": {},
   "outputs": [],
   "source": [
    "from sklearn.tree import DecisionTreeClassifier\n",
    "dt_model=DecisionTreeClassifier(criterion='entropy')\n",
    "dt_model.fit(x_train,y_train)\n",
    "y_prediction=dt_model.predict(x_test)"
   ]
  },
  {
   "cell_type": "code",
   "execution_count": 32,
   "metadata": {},
   "outputs": [
    {
     "name": "stdout",
     "output_type": "stream",
     "text": [
      "Classification report :\n",
      "               precision    recall  f1-score   support\n",
      "\n",
      "           0       0.17      0.19      0.18     13443\n",
      "           1       0.33      0.34      0.33     26687\n",
      "           2       0.16      0.16      0.16     13202\n",
      "           3       0.17      0.16      0.17     13404\n",
      "           4       0.17      0.15      0.16     13264\n",
      "\n",
      "    accuracy                           0.22     80000\n",
      "   macro avg       0.20      0.20      0.20     80000\n",
      "weighted avg       0.22      0.22      0.22     80000\n",
      "\n"
     ]
    }
   ],
   "source": [
    "from sklearn.metrics import confusion_matrix,accuracy_score,classification_report\n",
    "# print('Confusion_matrix is :\\n',confusion_matrix(y_test,y_pred))\n",
    "print('Classification report :\\n' ,classification_report(y_test,y_prediction))"
   ]
  }
 ],
 "metadata": {
  "kernelspec": {
   "display_name": "Python 3",
   "language": "python",
   "name": "python3"
  },
  "language_info": {
   "codemirror_mode": {
    "name": "ipython",
    "version": 3
   },
   "file_extension": ".py",
   "mimetype": "text/x-python",
   "name": "python",
   "nbconvert_exporter": "python",
   "pygments_lexer": "ipython3",
   "version": "3.8.5"
  }
 },
 "nbformat": 4,
 "nbformat_minor": 4
}
